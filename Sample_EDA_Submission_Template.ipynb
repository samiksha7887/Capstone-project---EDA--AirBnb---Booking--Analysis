{
  "nbformat": 4,
  "nbformat_minor": 0,
  "metadata": {
    "colab": {
      "private_outputs": true,
      "provenance": [],
      "collapsed_sections": [
        "vncDsAP0Gaoa",
        "FJNUwmbgGyua",
        "w6K7xa23Elo4",
        "yQaldy8SH6Dl",
        "PH-0ReGfmX4f",
        "mDgbUHAGgjLW",
        "O_i_v8NEhb9l",
        "HhfV-JJviCcP",
        "Y3lxredqlCYt",
        "3RnN4peoiCZX",
        "x71ZqKXriCWQ",
        "7hBIi_osiCS2",
        "JlHwYmJAmNHm",
        "35m5QtbWiB9F",
        "PoPl-ycgm1ru",
        "H0kj-8xxnORC",
        "nA9Y7ga8ng1Z",
        "PBTbrJXOngz2",
        "u3PMJOP6ngxN",
        "dauF4eBmngu3",
        "bKJF3rekwFvQ",
        "MSa1f5Uengrz",
        "GF8Ens_Soomf",
        "0wOQAZs5pc--",
        "K5QZ13OEpz2H",
        "lQ7QKXXCp7Bj",
        "448CDAPjqfQr",
        "KSlN3yHqYklG",
        "t6dVpIINYklI",
        "ijmpgYnKYklI",
        "-JiQyfWJYklI",
        "EM7whBJCYoAo",
        "fge-S5ZAYoAp",
        "85gYPyotYoAp",
        "RoGjAbkUYoAp",
        "4Of9eVA-YrdM",
        "iky9q4vBYrdO",
        "F6T5p64dYrdO",
        "y-Ehk30pYrdP",
        "bamQiAODYuh1",
        "QHF8YVU7Yuh3",
        "GwzvFGzlYuh3",
        "qYpmQ266Yuh3",
        "OH-pJp9IphqM",
        "bbFf2-_FphqN",
        "_ouA3fa0phqN",
        "Seke61FWphqN",
        "PIIx-8_IphqN",
        "t27r6nlMphqO",
        "r2jJGEOYphqO",
        "b0JNsNcRphqO",
        "BZR9WyysphqO",
        "jj7wYXLtphqO",
        "eZrbJ2SmphqO",
        "rFu4xreNphqO",
        "YJ55k-q6phqO",
        "gCFgpxoyphqP",
        "OVtJsKN_phqQ",
        "lssrdh5qphqQ",
        "U2RJ9gkRphqQ",
        "1M8mcRywphqQ",
        "tgIPom80phqQ",
        "JMzcOPDDphqR",
        "x-EpHcCOp1ci",
        "X_VqEhTip1ck",
        "8zGJKyg5p1ck",
        "PVzmfK_Ep1ck",
        "n3dbpmDWp1ck",
        "ylSl6qgtp1ck",
        "ZWILFDl5p1ck",
        "M7G43BXep1ck",
        "Ag9LCva-p1cl",
        "E6MkPsBcp1cl",
        "2cELzS2fp1cl",
        "3MPXvC8up1cl",
        "NC_X3p0fY2L0",
        "UV0SzAkaZNRQ",
        "YPEH6qLeZNRQ",
        "q29F0dvdveiT",
        "EXh0U9oCveiU",
        "22aHeOlLveiV",
        "JcMwzZxoAimU",
        "8G2x9gOozGDZ",
        "gCX9965dhzqZ",
        "gIfDvo9L0UH2"
      ]
    },
    "kernelspec": {
      "name": "python3",
      "display_name": "Python 3"
    },
    "language_info": {
      "name": "python"
    }
  },
  "cells": [
    {
      "cell_type": "markdown",
      "source": [
        "# **Project Name**  - AirBnb Booking Analysis EDA\n",
        "\n",
        "\n"
      ],
      "metadata": {
        "id": "vncDsAP0Gaoa"
      }
    },
    {
      "cell_type": "markdown",
      "source": [
        "##### **Project Type**    - EDA\n",
        "##### **Contribution**    - Individual\n",
        "##### **Team Member 1 -**  Samiksha Wakode\n"
      ],
      "metadata": {
        "id": "beRrZCGUAJYm"
      }
    },
    {
      "cell_type": "markdown",
      "source": [
        "# **Project Summary -**"
      ],
      "metadata": {
        "id": "FJNUwmbgGyua"
      }
    },
    {
      "cell_type": "markdown",
      "source": [
        "Write the summary here within 500-600 words."
      ],
      "metadata": {
        "id": "F6v_1wHtG2nS"
      }
    },
    {
      "cell_type": "markdown",
      "source": [
        "Airbnb is a popular online marketplace that allows people to rent out their homes or apartments to travelers. The platform provides a convenient and affordable alternative to traditional hotels, and hosts can earn extra income by renting out their properties.\n",
        "\n",
        "The project can help aspiring Airbnb hosts to ensure that their listing is equipped with the important features to charge a higher price without losing customers, and travellers can determine the factors to look into to get the lowest price possible while having certain features they prefer.\n",
        "\n",
        "In conclusion, the Airbnb data analysis project is a valuable study that aims to help both Airbnb hosts and travelers to help them make informed decisions based on the significant factors and features that affect the listing price.\n",
        "\n",
        "Approach used:\n",
        "\n",
        "The approach we have used in this project is defined in the given format-\n",
        "\n",
        "1) Loading our data : In this section we just loaded our dataset in colab notebook and read the csv file.\n",
        "\n",
        "2) Data Cleaning and Processing : In this section we have tried to remove the null values and for some of the columns we have replaced the null values with the appropriate values with reasonable assumptions .\n",
        "\n",
        "3) Analysis and Visualization : In this section we have tried to explore all variables which can play an important role for the analysis . In the next parts we have tried to explore the effect of one over the other . In the next part we tried to answers our hypothetical questions.\n",
        "\n",
        "4) Future scope of Further Analysis: There are many apartments having availability as 0 and the date of last_review is very old, which can mean that they must have stopped their business, we can find the relation with neighbourhood with these apartments if we could dig much, various micro trends could be unearthed, which we are not able to cover during this short duration efficiently. There are various columns which can play an important role in further analysis such as number of reviews and reviews per month finding its relation with other factors or other grouped factors can play an important role.\n",
        "\n",
        "Types of graphs used for data visualization:\n",
        "\n",
        "Count Plot\n",
        "\n",
        "Bar Plot\n",
        "\n",
        "Scatter Plot\n",
        "\n",
        "Heatmap\n",
        "\n",
        "Box plot\n",
        "\n",
        "Python Libraries used for graphs:\n",
        "\n",
        "Matplotib\n",
        "\n",
        "Seaborn\n",
        "\n",
        "Numpy\n",
        "\n",
        "Pandas"
      ],
      "metadata": {
        "id": "LAdCPr7gTABn"
      }
    },
    {
      "cell_type": "markdown",
      "source": [
        "# **GitHub Link -**"
      ],
      "metadata": {
        "id": "w6K7xa23Elo4"
      }
    },
    {
      "cell_type": "markdown",
      "source": [
        "Provide your GitHub Link here."
      ],
      "metadata": {
        "id": "h1o69JH3Eqqn"
      }
    },
    {
      "cell_type": "markdown",
      "source": [
        "# **Problem Statement**\n"
      ],
      "metadata": {
        "id": "yQaldy8SH6Dl"
      }
    },
    {
      "cell_type": "markdown",
      "source": [
        "**Write Problem Statement Here.**"
      ],
      "metadata": {
        "id": "DpeJGUA3kjGy"
      }
    },
    {
      "cell_type": "markdown",
      "source": [
        "The aim of this project is to analyze Airbnb data and provide actionable\n",
        "insights to improve the hosting experience and overall satisfaction of both hosts and guests. By exploring the dataset, we seek to address the following key challenges:\n",
        "\n",
        "Demand and Pricing Analysis: Analyze historical booking data to understand the factors influencing demand for Airbnb accommodations in different locations. Determine how various attributes, such as location, property type, amenities, and seasonality, impact pricing strategies.\n",
        "\n",
        "Customer Experience Assessment: Examine customer reviews and ratings to identify patterns and trends that impact guest satisfaction. Identify common pain points and areas for improvement in order to enhance the overall experience of guests staying at Airbnb listings.\n",
        "\n",
        "Host Performance Evaluation: Evaluate the performance of hosts based on key metrics such as occupancy rate, average ratings, and response time. Identify successful hosting practices and provide recommendations for hosts to improve their listing's performance and attract more bookings. Explore the impact of factors like pricing, availability, and responsiveness on host ratings.\n",
        "\n",
        "Trend Analysis and Forecasting: Identify emerging trends in the Airbnb market, such as new popular neighborhoods, changing guest preferences, or shifts in demand during specific seasons.\n",
        "\n",
        "Overall, this project aims to leverage Airbnb data to empower hosts and improve the guest experience by providing valuable insights into pricing, customer preferences, host performance, competition, and future trends. The findings will help hosts make data-driven decisions to optimize their offerings and enhance the overall Airbnb ecosystem."
      ],
      "metadata": {
        "id": "160P9OCcTlWm"
      }
    },
    {
      "cell_type": "markdown",
      "source": [
        "#### **Define Your Business Objective?**"
      ],
      "metadata": {
        "id": "PH-0ReGfmX4f"
      }
    },
    {
      "cell_type": "markdown",
      "source": [
        "\n",
        "\n",
        "Our overarching business objective is to leverage data analytics to shape the future of Airbnb hosting. Through a thorough analysis of the dataset, our mission revolves around optimizing pricing strategies, enhancing the guest experience, and empowering hosts in the dynamic Airbnb ecosystem. We aim to decode the complexities of demand, identify elements that delight or dissatisfy guests, and evaluate host performance using key metrics. Additionally, we seek to provide stakeholders with insights into emerging market trends, enabling proactive adaptation to changes in traveler preferences, seasonal variations, and the discovery of new destination hotspots. In essence, our goal is to equip hosts and stakeholders with the knowledge and foresight to excel in the evolving world of Airbnb hosting."
      ],
      "metadata": {
        "id": "PhDvGCAqmjP1"
      }
    },
    {
      "cell_type": "markdown",
      "source": [
        "# **General Guidelines** : -  "
      ],
      "metadata": {
        "id": "mDgbUHAGgjLW"
      }
    },
    {
      "cell_type": "markdown",
      "source": [
        "1.   Well-structured, formatted, and commented code is required.\n",
        "2.   Exception Handling, Production Grade Code & Deployment Ready Code will be a plus. Those students will be awarded some additional credits.\n",
        "     \n",
        "     The additional credits will have advantages over other students during Star Student selection.\n",
        "       \n",
        "             [ Note: - Deployment Ready Code is defined as, the whole .ipynb notebook should be executable in one go\n",
        "                       without a single error logged. ]\n",
        "\n",
        "3.   Each and every logic should have proper comments.\n",
        "4. You may add as many number of charts you want. Make Sure for each and every chart the following format should be answered.\n",
        "        \n",
        "\n",
        "```\n",
        "# Chart visualization code\n",
        "```\n",
        "            \n",
        "\n",
        "*   Why did you pick the specific chart?\n",
        "*   What is/are the insight(s) found from the chart?\n",
        "* Will the gained insights help creating a positive business impact?\n",
        "Are there any insights that lead to negative growth? Justify with specific reason.\n",
        "\n",
        "5. You have to create at least 20 logical & meaningful charts having important insights.\n",
        "\n",
        "\n",
        "[ Hints : - Do the Vizualization in  a structured way while following \"UBM\" Rule.\n",
        "\n",
        "U - Univariate Analysis,\n",
        "\n",
        "B - Bivariate Analysis (Numerical - Categorical, Numerical - Numerical, Categorical - Categorical)\n",
        "\n",
        "M - Multivariate Analysis\n",
        " ]\n",
        "\n",
        "\n",
        "\n"
      ],
      "metadata": {
        "id": "ZrxVaUj-hHfC"
      }
    },
    {
      "cell_type": "markdown",
      "source": [
        "# ***Let's Begin !***"
      ],
      "metadata": {
        "id": "O_i_v8NEhb9l"
      }
    },
    {
      "cell_type": "markdown",
      "source": [
        "## ***1. Know Your Data***"
      ],
      "metadata": {
        "id": "HhfV-JJviCcP"
      }
    },
    {
      "cell_type": "markdown",
      "source": [
        "### Import Libraries"
      ],
      "metadata": {
        "id": "Y3lxredqlCYt"
      }
    },
    {
      "cell_type": "code",
      "source": [
        "# Import Libraries\n",
        "import numpy as np\n",
        "import pandas as pd\n",
        "import matplotlib.pyplot as plt\n",
        "%matplotlib inline\n",
        "import seaborn as sns\n",
        "import plotly.express as px"
      ],
      "metadata": {
        "id": "M8Vqi-pPk-HR"
      },
      "execution_count": null,
      "outputs": []
    },
    {
      "cell_type": "markdown",
      "source": [
        "### Dataset Loading"
      ],
      "metadata": {
        "id": "3RnN4peoiCZX"
      }
    },
    {
      "cell_type": "code",
      "source": [
        "# Load Dataset\n",
        "from google.colab import drive\n",
        "drive.mount('/content/drive')"
      ],
      "metadata": {
        "id": "4CkvbW_SlZ_R"
      },
      "execution_count": null,
      "outputs": []
    },
    {
      "cell_type": "code",
      "source": [
        "path = \"/content/drive/MyDrive/Airbnb NYC 2019.csv\"\n",
        "data_set = pd.read_csv(path)"
      ],
      "metadata": {
        "id": "F_9jcYMnVd8v"
      },
      "execution_count": null,
      "outputs": []
    },
    {
      "cell_type": "markdown",
      "source": [
        "### Dataset First View"
      ],
      "metadata": {
        "id": "x71ZqKXriCWQ"
      }
    },
    {
      "cell_type": "code",
      "source": [
        "# Dataset First Look\n",
        "data_set.head()"
      ],
      "metadata": {
        "id": "LWNFOSvLl09H"
      },
      "execution_count": null,
      "outputs": []
    },
    {
      "cell_type": "markdown",
      "source": [
        "### Dataset Rows & Columns count"
      ],
      "metadata": {
        "id": "7hBIi_osiCS2"
      }
    },
    {
      "cell_type": "code",
      "source": [
        "# Dataset Rows & Columns count\n",
        "data_set.shape"
      ],
      "metadata": {
        "id": "Kllu7SJgmLij"
      },
      "execution_count": null,
      "outputs": []
    },
    {
      "cell_type": "markdown",
      "source": [
        "### Dataset Information"
      ],
      "metadata": {
        "id": "JlHwYmJAmNHm"
      }
    },
    {
      "cell_type": "code",
      "source": [
        "# Dataset Info\n",
        "data_set.info()"
      ],
      "metadata": {
        "id": "e9hRXRi6meOf"
      },
      "execution_count": null,
      "outputs": []
    },
    {
      "cell_type": "markdown",
      "source": [
        "#### Duplicate Values"
      ],
      "metadata": {
        "id": "35m5QtbWiB9F"
      }
    },
    {
      "cell_type": "code",
      "source": [
        "# Dataset Duplicate Value Count\n",
        "len(data_set[data_set.duplicated()])"
      ],
      "metadata": {
        "id": "1sLdpKYkmox0"
      },
      "execution_count": null,
      "outputs": []
    },
    {
      "cell_type": "markdown",
      "source": [
        "#### Missing Values/Null Values"
      ],
      "metadata": {
        "id": "PoPl-ycgm1ru"
      }
    },
    {
      "cell_type": "code",
      "source": [
        "# Missing Values/Null Values Count\n",
        "print(data_set.isnull().sum())\n",
        ""
      ],
      "metadata": {
        "id": "GgHWkxvamxVg"
      },
      "execution_count": null,
      "outputs": []
    },
    {
      "cell_type": "code",
      "source": [
        "# Visualizing the missing values\n",
        "plt.figure(figsize=(10, 5))\n",
        "sns.heatmap(data_set.isnull(), cbar=False, cmap=\"rocket\")\n",
        "plt.title('Missing Values Heatmap')\n",
        "plt.show()"
      ],
      "metadata": {
        "id": "3q5wnI3om9sJ"
      },
      "execution_count": null,
      "outputs": []
    },
    {
      "cell_type": "markdown",
      "source": [
        "### What did you know about your dataset?"
      ],
      "metadata": {
        "id": "H0kj-8xxnORC"
      }
    },
    {
      "cell_type": "markdown",
      "source": [
        "This dataset has around 49,000 observations in it with 16 columns and it is a mix between categorical and numeric values.\n",
        "\n",
        "Airbnb is an online marketplace connecting travelers with local hosts. On one side, the platform enables people to list their available space and earn extra income in the form of rent. On the other, Airbnb enables travelers to book unique homestays from local hosts, saving them money and giving them a chance to interact with locals. Catering to the on-demand travel industry, Airbnb is present in over 190 countries across the world.\n",
        "\n",
        "The data we are going to analyse is the data of Airbnb NYC (2019). Our main objectives of analysis will be based on the ten questions which we have analysed below but we are not limited to it,we will also try to explore some more insights."
      ],
      "metadata": {
        "id": "gfoNAAC-nUe_"
      }
    },
    {
      "cell_type": "markdown",
      "source": [
        "## ***2. Understanding Your Variables***"
      ],
      "metadata": {
        "id": "nA9Y7ga8ng1Z"
      }
    },
    {
      "cell_type": "code",
      "source": [
        "# Dataset Columns\n",
        "data_set.columns"
      ],
      "metadata": {
        "id": "j7xfkqrt5Ag5"
      },
      "execution_count": null,
      "outputs": []
    },
    {
      "cell_type": "code",
      "source": [
        "# Dataset Describe\n",
        "data_set.describe(include = 'all')\n",
        ""
      ],
      "metadata": {
        "id": "DnOaZdaE5Q5t"
      },
      "execution_count": null,
      "outputs": []
    },
    {
      "cell_type": "markdown",
      "source": [
        "### Variables Description"
      ],
      "metadata": {
        "id": "PBTbrJXOngz2"
      }
    },
    {
      "cell_type": "markdown",
      "source": [
        "\n",
        "\n",
        "* **id** - Unique Id\n",
        "* **name** - Name of the listing\n",
        "* **host_id** - Unique host_id\n",
        "* **host_name** - Name of host\n",
        "* **neighbourhood_group** - location\n",
        "* **neighbourhood** - area\n",
        "* **latitude** - Latitude range\n",
        "* **longitude** - Longitude range\n",
        "* **room_type** - Type of listing\n",
        "* **price** - Price of listing\n",
        "* **minimum_nights** - Minimum nighls to be paid for\n",
        "* **Number_of_reviews** - Number of reviews\n",
        "* **last_review** - Content of he las review\n",
        "* **reviews_per_month** - Number of checks per month\n",
        "* **calculated_host_listing_count** - Total count\n",
        "\n",
        "\n",
        "\n",
        "\n",
        "\n",
        "\n",
        "\n",
        "\n",
        "\n",
        "\n"
      ],
      "metadata": {
        "id": "aJV4KIxSnxay"
      }
    },
    {
      "cell_type": "markdown",
      "source": [
        "### Check Unique Values for each variable."
      ],
      "metadata": {
        "id": "u3PMJOP6ngxN"
      }
    },
    {
      "cell_type": "code",
      "source": [
        "# Check Unique Values for each variable.\n",
        "for i in data_set.columns.tolist():\n",
        "  print(\"No. of unique values in\",i,\"is\",data_set[i].nunique(),\".\")\n",
        ""
      ],
      "metadata": {
        "id": "zms12Yq5n-jE"
      },
      "execution_count": null,
      "outputs": []
    },
    {
      "cell_type": "markdown",
      "source": [
        "## 3. ***Data Wrangling***"
      ],
      "metadata": {
        "id": "dauF4eBmngu3"
      }
    },
    {
      "cell_type": "markdown",
      "source": [
        "### Data Wrangling Code"
      ],
      "metadata": {
        "id": "bKJF3rekwFvQ"
      }
    },
    {
      "cell_type": "code",
      "source": [
        "# Write your code to make your dataset analysis ready.\n",
        "df= data_set.copy()"
      ],
      "metadata": {
        "id": "wk-9a2fpoLcV"
      },
      "execution_count": null,
      "outputs": []
    },
    {
      "cell_type": "code",
      "source": [
        "# Finding number of customers\n",
        "customers_df = df[df['host_id'] != df['id']]\n",
        "customer_count = len(customers_df)\n",
        "\n",
        "print(\"Number of customers on Airbnb: - \", customer_count)"
      ],
      "metadata": {
        "id": "NZ2OM2JAcZIG"
      },
      "execution_count": null,
      "outputs": []
    },
    {
      "cell_type": "code",
      "source": [
        "#filling NULL value in 4 column with respective values\n",
        "data_set.fillna({\"name\":\"NAN\"}, inplace=True)\n",
        "data_set.fillna({\"host_name\":\"NAN\"}, inplace=True)\n",
        "data_set.fillna({\"last_review\":\"NAN\"}, inplace=True)\n",
        "data_set.fillna({\"reviews_per_month\":0}, inplace=True)"
      ],
      "metadata": {
        "id": "YeXQV19Vcc5t"
      },
      "execution_count": null,
      "outputs": []
    },
    {
      "cell_type": "code",
      "source": [
        "#checking Null values (after replacing Null value to respective values)\n",
        "print(data_set.isnull().sum())"
      ],
      "metadata": {
        "id": "QWVjnefuchBf"
      },
      "execution_count": null,
      "outputs": []
    },
    {
      "cell_type": "code",
      "source": [
        "# Visualizing missing values if any\n",
        "plt.figure(figsize=(10, 5))\n",
        "sns.heatmap(data_set.isnull(), cbar=False, cmap='Spectral')\n",
        "plt.title('Missing Values Heatmap')\n",
        "plt.show()"
      ],
      "metadata": {
        "id": "QytMvbOwcmvH"
      },
      "execution_count": null,
      "outputs": []
    },
    {
      "cell_type": "markdown",
      "source": [
        "### What all manipulations have you done and insights you found?"
      ],
      "metadata": {
        "id": "MSa1f5Uengrz"
      }
    },
    {
      "cell_type": "markdown",
      "source": [
        "Firstly ,we created a copy of our data frame.\n",
        "\n",
        "Secondly , we found the number of customers i.e 48895\n",
        "\n",
        "Then, we handeled the null values by replacing them with appropriate value.\n",
        "\n",
        "After that we checked if there are any null values left.\n",
        "\n",
        "Lastly we plotted a heatmap to visualize any null values if any."
      ],
      "metadata": {
        "id": "LbyXE7I1olp8"
      }
    },
    {
      "cell_type": "markdown",
      "source": [
        "## ***4. Data Vizualization, Storytelling & Experimenting with charts : Understand the relationships between variables***"
      ],
      "metadata": {
        "id": "GF8Ens_Soomf"
      }
    },
    {
      "cell_type": "markdown",
      "source": [
        "**Question 1 - What is the relationship between the price of an Airbnb listing and the number of reviews it has?**"
      ],
      "metadata": {
        "id": "0wOQAZs5pc--"
      }
    },
    {
      "cell_type": "code",
      "source": [
        "# First we will remove the outliers so we can get a more understandable visualization\n",
        "# Creating a copy of the original dataset\n",
        "df_filtered = df.copy()\n",
        "\n",
        "# Calculating the IQR for the price variable\n",
        "iqr = df_filtered['price'].quantile(0.75) - df_filtered['price'].quantile(0.25)\n",
        "\n",
        "# Remove any data points that fall outside of the IQR range\n",
        "df_filtered = df_filtered[df_filtered['price'].between(df_filtered['price'].quantile(0.25) - 1.5 * iqr, df_filtered['price'].quantile(0.75) + 1.5 * iqr)]\n",
        "\n"
      ],
      "metadata": {
        "id": "7v_ESjsspbW7"
      },
      "execution_count": null,
      "outputs": []
    },
    {
      "cell_type": "code",
      "source": [
        "# Creating a scatter plot showing the relationship between price and number of reviews\n",
        "plt.scatter(df_filtered['price'], df_filtered['number_of_reviews'])\n",
        "\n",
        "# Adding labels to the axes\n",
        "plt.xlabel('Price')\n",
        "plt.ylabel('Number of reviews')\n",
        "\n",
        "# Adding a title to the plot\n",
        "plt.title('Relationship between price and number of reviews for Airbnb listings (outliers removed)')\n",
        "\n",
        "# Show the plot\n",
        "plt.show()\n",
        ""
      ],
      "metadata": {
        "id": "Bev9NEKRdVcN"
      },
      "execution_count": null,
      "outputs": []
    },
    {
      "cell_type": "markdown",
      "source": [
        "Insights :\n",
        "\n",
        "Based on the results of the scatter plot, we can conclude that there is a positive correlation between the price of an Airbnb listing and the number of reviews it has, even after removing outliers. This means that listings with more reviews tend to be more expensive. However, it is important to note that there are other factors that influence the price of Airbnb listings, such as the location of the listing, the amenities that it offers, and the time of year."
      ],
      "metadata": {
        "id": "dvll3PAKdhki"
      }
    },
    {
      "cell_type": "markdown",
      "source": [
        "**Question 2 - What are the key factors that drive Airbnb bookings in NYC, and how can hosts optimize their listings to increase their chances of getting booked?**"
      ],
      "metadata": {
        "id": "WyY0HvG0dmO8"
      }
    },
    {
      "cell_type": "code",
      "source": [
        "\n",
        "#Identify the most popular neighborhoods\n",
        "top_neighborhoods = df['neighbourhood'].value_counts().head(10)\n",
        "print(\"The most popular neighborhoods for Airbnb bookings in NYC are:\")\n",
        "print(top_neighborhoods)"
      ],
      "metadata": {
        "id": "R4YgtaqtYklH"
      },
      "execution_count": null,
      "outputs": []
    },
    {
      "cell_type": "code",
      "source": [
        "# Create a bar chart of the most popular neighborhoods\n",
        "plt.bar(top_neighborhoods.index, top_neighborhoods.values)\n",
        "plt.xticks(rotation=90)\n",
        "plt.xlabel('Neighborhood')\n",
        "plt.ylabel('Number of Bookings')\n",
        "plt.title('Most Popular Neighborhoods for Airbnb Bookings in NYC')\n",
        "plt.show()"
      ],
      "metadata": {
        "id": "jI3H4tqZeK7H"
      },
      "execution_count": null,
      "outputs": []
    },
    {
      "cell_type": "code",
      "source": [
        "# Calculate the average price of an Airbnb booking in each neighborhood\n",
        "average_price_per_neighborhood = df.groupby('neighbourhood')['price'].mean()\n",
        "print(\"The average price of an Airbnb booking in each neighborhood is:\")\n",
        "print(average_price_per_neighborhood)\n",
        ""
      ],
      "metadata": {
        "id": "oNpyyPkug3eZ"
      },
      "execution_count": null,
      "outputs": []
    },
    {
      "cell_type": "code",
      "source": [
        "# Plotting a line chart\n",
        "# Trim the `y` array to the length of the `x` array\n",
        "average_price_per_neighborhood = average_price_per_neighborhood[:len(top_neighborhoods)]\n",
        "\n",
        "# Create a line chart of the average price of an Airbnb booking in NYC by neighborhood\n",
        "plt.plot(top_neighborhoods.index, average_price_per_neighborhood, color='blue', label='Average Price')\n",
        "\n",
        "# Rotate the x-axis labels to vertical\n",
        "plt.xticks(rotation=90)\n",
        "\n",
        "# Add a legend\n",
        "plt.legend()\n",
        "\n",
        "# Remove extra ticks\n",
        "plt.tick_params(bottom=False)\n",
        "\n",
        "# Add labels to the x-axis and y-axis\n",
        "plt.xlabel('Neighborhood')\n",
        "plt.ylabel('Average Price (USD)')\n",
        "\n",
        "# Show the plot\n",
        "plt.show()\n"
      ],
      "metadata": {
        "id": "QEf1GJkCg3m1"
      },
      "execution_count": null,
      "outputs": []
    },
    {
      "cell_type": "markdown",
      "source": [
        "Insights :\n",
        "\n",
        "1. The most popular neighborhoods for Airbnb bookings in NYC are:\n",
        "* Manhattan: Williamsburg , Midtown , Harlem, Upper West Side\n",
        "\n",
        "* Brooklyn: Bushwick, Bedford-Stuyvesant , Crown Heights\n",
        "\n",
        "2. The average price of an Airbnb booking in each neighborhood is:\n",
        "* Manhattan: Williamsburg ( 250/night),Midtown( 225/night) , Harlem ( 175/night),UpperWestSide( 150/night)\n",
        "* Brooklyn: Bushwick ( 125/night),Bedford−Stuyvesant( 100/night) , Crown Heights ($125/night)\n",
        "3. There is a positive correlation between the popularity of a neighborhood and the average price of an Airbnb booking in that neighborhood. This means that more popular neighborhoods tend to have higher prices."
      ],
      "metadata": {
        "id": "IYibJMt5hPfh"
      }
    },
    {
      "cell_type": "markdown",
      "source": [
        "**Question 3- How does the number of Airbnb bookings vary by neighborhood and time of year?**"
      ],
      "metadata": {
        "id": "EM7whBJCYoAo"
      }
    },
    {
      "cell_type": "code",
      "source": [
        "# Converting the \"last_review\" column to a datetime object\n",
        "df['last_review'] = pd.to_datetime(df['last_review'])\n",
        "\n",
        "# Extracting the month from the \"last_review\" column\n",
        "df['month'] = df['last_review'].dt.month\n",
        "\n",
        "# Calculating the number of Airbnb bookings for each month and neighborhood\n",
        "num_bookings_by_month_and_neighborhood = df.groupby(['month', 'neighbourhood'])['id'].count()\n",
        "\n",
        "# Unstacking the DataFrame\n",
        "num_bookings_by_month_and_neighborhood = num_bookings_by_month_and_neighborhood.unstack()\n",
        "\n",
        "# Converting the DataFrame to a Series\n",
        "num_bookings_by_month_and_neighborhood = num_bookings_by_month_and_neighborhood.sum(axis=1)\n",
        "\n"
      ],
      "metadata": {
        "id": "t6GMdE67YoAp"
      },
      "execution_count": null,
      "outputs": []
    },
    {
      "cell_type": "code",
      "source": [
        "# Visualizing the results by plotting bar chart\n",
        "plt.bar(num_bookings_by_month_and_neighborhood.index, num_bookings_by_month_and_neighborhood.values)\n",
        "plt.xlabel('Month')\n",
        "plt.ylabel('Number of bookings')\n",
        "plt.title('Number of Airbnb Bookings by Month (NYC Airbnb Bookings, 2019)')\n",
        "plt.show()"
      ],
      "metadata": {
        "id": "Z_T4aOGDh9jd"
      },
      "execution_count": null,
      "outputs": []
    },
    {
      "cell_type": "markdown",
      "source": [
        "Insights :\n",
        "\n",
        "The number of Airbnb bookings varies significantly by month. In general, there are more Airbnb bookings in the summer months (April , May , June, July) than in the winter months (December, January, February , March).\n",
        "\n",
        "This is likely due to a number of factors, including:\n",
        "\n",
        "* The weather is more pleasant in the summer months, making it a more attractive time to visit New York City.\n",
        "* People are more likely to take vacations during the summer months.\n",
        "\n",
        "\n",
        "Airbnb hosts can use this information to optimize their listings and pricing strategies. For example, hosts may want to consider raising their prices during the summer months, when there is more demand for Airbnb rentals."
      ],
      "metadata": {
        "id": "PxR4Nl2BiEFy"
      }
    },
    {
      "cell_type": "markdown",
      "source": [
        "**Question 4- Which hosts are having highest number of apartments ?**"
      ],
      "metadata": {
        "id": "4Of9eVA-YrdM"
      }
    },
    {
      "cell_type": "code",
      "source": [
        "# Counting the number of apartments for each host\n",
        "df_host_count = df['host_id'].value_counts()\n",
        "\n",
        "# Print the top 10 hosts with the highest number of apartments\n",
        "print(df_host_count.head(10))"
      ],
      "metadata": {
        "id": "irlUoxc8YrdO"
      },
      "execution_count": null,
      "outputs": []
    },
    {
      "cell_type": "code",
      "source": [
        "# Details of host with most number of apartments\n",
        "# Filter the dataset to only include rows where the host ID is 219517861\n",
        "df_filtered = df[df['host_id'] == 219517861]\n",
        "\n",
        "# Print the details of the host\n",
        "print(df_filtered[['host_name', 'neighbourhood_group', 'neighbourhood', 'latitude', 'longitude']].head())\n",
        ""
      ],
      "metadata": {
        "id": "XavEL0Iuiezd"
      },
      "execution_count": null,
      "outputs": []
    },
    {
      "cell_type": "markdown",
      "source": [
        "Insights :\n",
        "\n",
        "The following are some insights that can be drawn from the data:\n",
        "\n",
        "1. The top 10 hosts have a significant number of apartments, suggesting that the Airbnb market in NYC is dominated by a small number of large hosts.\n",
        "2. The largest host, Sonder (NYC), has over 327 apartments, which is more than 6 times the number of apartments of the smallest host in the top 10.\n",
        "3. The top 10 hosts are all located in NYC, suggesting that the Airbnb market in NYC is more concentrated than in other cities."
      ],
      "metadata": {
        "id": "s70Sl7ijipwl"
      }
    },
    {
      "cell_type": "markdown",
      "source": [
        "**Question 5 - Find prices of different locations with their corresponding room_type.**"
      ],
      "metadata": {
        "id": "bamQiAODYuh1"
      }
    },
    {
      "cell_type": "code",
      "source": [
        "\"\"\"Analysing Different locations according to their room_type and corresponding median prices\"\"\"\n",
        "\n",
        "# Extracting a df from airbnb_df\n",
        "price_df = data_set[['neighbourhood_group','room_type','price']]\n",
        "\n",
        "#grouping this data frame according to their neighbourhood_group and room_type and assigning median prices\n",
        "median_price_df =price_df.groupby(['neighbourhood_group','room_type']).median().reset_index()\n"
      ],
      "metadata": {
        "id": "TIJwrbroYuh3"
      },
      "execution_count": null,
      "outputs": []
    },
    {
      "cell_type": "code",
      "source": [
        "# Visualization\n",
        "\n",
        "locations = median_price_df.neighbourhood_group.unique()\n",
        "x_rooms1 = [0.8, 3.8, 6.8, 9.8, 12.8]\n",
        "x_rooms2 = [1.6, 4.6, 7.6, 10.6, 13.6]\n",
        "x_rooms3 = [2.4, 5.4, 8.4, 11.4, 14.4]\n",
        "y_values1 = median_price_df[median_price_df['room_type'] == 'Entire home/apt']['price'].values\n",
        "y_values2 = median_price_df[median_price_df['room_type'] == 'Private room']['price'].values\n",
        "y_values3 = median_price_df[median_price_df['room_type'] == 'Shared room']['price'].values\n",
        "fig,ax = plt.subplots(figsize=(10,5))\n",
        "fig.patch.set_facecolor('lightgray')\n",
        "\n",
        "plt.bar(x_rooms1, y_values1, color='y', edgecolor='b')\n",
        "plt.bar(x_rooms2, y_values2, color='pink', edgecolor='b')\n",
        "plt.bar(x_rooms3, y_values3, color='g', edgecolor='b')\n",
        "ax.set_xticks(range(1,16,3))\n",
        "ax.set_xticklabels(locations, fontsize='12')\n",
        "\n",
        "for tick in ax.get_xticklabels():\n",
        "  tick.set_rotation(45)\n",
        "plt.xlabel('Neighbourhood_group/Room-type',fontsize='15')\n",
        "plt.ylabel('Median_Prices', fontsize='15')\n",
        "plt.legend(labels=median_price_df.room_type.unique(), loc='best')\n",
        "plt.title('Median Price-Rental Distribution by Location and Room-type',fontsize='15')\n",
        "plt.show()"
      ],
      "metadata": {
        "id": "VFs5jsU8jOq6"
      },
      "execution_count": null,
      "outputs": []
    },
    {
      "cell_type": "markdown",
      "source": [
        "Insights :\n",
        "\n",
        "1. Entire-home/apt of every location have higher prices followed by private-rooms and shared-rooms.\n",
        "\n",
        "2. Manhattan is most demanded location followed by Brooklyn.\n",
        "\n",
        "3. Manhattan is the costliest location for every room type may be due to their location or high demand followed by Brooklyn .\n",
        "\n",
        "4. The price for private-room rentals of Manhattan is somewhat in the same range of entire-home/apt rentals of other locations."
      ],
      "metadata": {
        "id": "AVQIEs8gjXNW"
      }
    },
    {
      "cell_type": "markdown",
      "source": [
        "**Question 6 - Visualize top 20 hosts and find the reason behind their demand.**"
      ],
      "metadata": {
        "id": "OH-pJp9IphqM"
      }
    },
    {
      "cell_type": "code",
      "source": [
        "\n",
        "# Finding most reviewed rentals by host name and visualization\n",
        "\n",
        "most_review_host_df = data_set.sort_values('number_of_reviews',ascending=False)\n",
        "top_reviewed_host_df = most_review_host_df.loc[:,['host_name','number_of_reviews']][:30]\n",
        "top_reviewed_host_df = top_reviewed_host_df.groupby('host_name').mean().sort_values('number_of_reviews',ascending=False).reset_index()\n",
        "fig,ax = plt.subplots(figsize=(12,8))\n",
        "sns.barplot(x=top_reviewed_host_df['host_name'],y=top_reviewed_host_df['number_of_reviews'].values,color='yellowgreen',ax=ax)\n",
        "plt.plot(top_reviewed_host_df['number_of_reviews'], marker='o', color='red',linestyle='--')\n",
        "plt.ylabel('Reviews', fontsize='15')\n",
        "plt.xlabel('host_name',fontsize='15')\n",
        "plt.ylim((300,650))\n",
        "for ax in ax.get_xticklabels():\n",
        "  ax.set_rotation(50)\n",
        "plt.title('Most-Reviewed Rentals by host_name',fontsize='15')\n",
        "plt.show()"
      ],
      "metadata": {
        "id": "kuRf4wtuphqN"
      },
      "execution_count": null,
      "outputs": []
    },
    {
      "cell_type": "code",
      "source": [
        "top_host=top_reviewed_host_df['host_name'].tolist()\n",
        "top_host_dict={}\n",
        "for elem in top_host:\n",
        "  avg_price=data_set[data_set['host_name']==elem].price.mean()\n",
        "  top_host_dict[elem]=avg_price\n",
        "\n",
        "top_host_avg_price_df=pd.DataFrame(top_host_dict.items(), columns=['Host', 'avg_price'])\n",
        "top_host_avg_price_df.set_index('Host', inplace=True)\n",
        "\n",
        "# top host average price visualization\n",
        "\n",
        "top_host_avg_price_df.plot(kind='bar')\n",
        "\n",
        "plt.show()\n",
        "\n"
      ],
      "metadata": {
        "id": "3EoWaliLjvJl"
      },
      "execution_count": null,
      "outputs": []
    },
    {
      "cell_type": "markdown",
      "source": [
        "Insight :\n",
        "\n",
        "1. Dona has most number of reviews followed by Jj.\n",
        "2. The reason behind the demand of top 20 hosts is due to their competitive pricing.\n",
        "3. Almost every popular host have rental listings in the price range between 50 and 200."
      ],
      "metadata": {
        "id": "6VD7rZuWj4Wu"
      }
    },
    {
      "cell_type": "markdown",
      "source": [
        "**Question 7 - What can we learn from predictions? (ex: locations, prices, reviews, etc)**"
      ],
      "metadata": {
        "id": "PIIx-8_IphqN"
      }
    },
    {
      "cell_type": "code",
      "source": [
        "# Which neighbourhood has max reviews ?\n",
        "\n",
        "area_reviews=data_set.groupby(['neighbourhood_group'])['number_of_reviews'].max().reset_index().sort_values(by='number_of_reviews',ascending= False)\n",
        "area_reviews"
      ],
      "metadata": {
        "id": "lqAIGUfyphqO"
      },
      "execution_count": null,
      "outputs": []
    },
    {
      "cell_type": "code",
      "source": [
        "# Visualize number of reviews vs neighbourhood\n",
        "\n",
        "plt.rcParams['figure.figsize']=(20,10)\n",
        "reviews=area_reviews['number_of_reviews']\n",
        "plt.pie(reviews,labels=area_reviews['neighbourhood_group'],autopct='%0.2f%%',explode=[0.1,0.1,0.1,0.1,0.1],shadow=True)\n",
        "plt.title('Number of reviews per neighbourhood')\n",
        "plt.show()\n",
        ""
      ],
      "metadata": {
        "id": "PX4mOnLwkMct"
      },
      "execution_count": null,
      "outputs": []
    },
    {
      "cell_type": "code",
      "source": [
        "# price vs reviews - 0$ (price inconsistency)\n",
        "\n",
        "price=data_set.groupby(['price'])['number_of_reviews'].max().reset_index()\n",
        "price.head(10)"
      ],
      "metadata": {
        "id": "i1yJwKhykS0J"
      },
      "execution_count": null,
      "outputs": []
    },
    {
      "cell_type": "code",
      "source": [
        "# Visualizing price vs NO. of reviews\n",
        "\n",
        "area=data_set['price']\n",
        "price=data_set['number_of_reviews']\n",
        "fig=plt.figure(figsize=(20,10))\n",
        "plt.scatter(area,price)\n",
        "plt.xlabel('Price')\n",
        "plt.ylabel('Number of reviews')\n",
        "plt.title('Price vs Number of reviews')\n",
        "plt.show()"
      ],
      "metadata": {
        "id": "mndnto5LkXCy"
      },
      "execution_count": null,
      "outputs": []
    },
    {
      "cell_type": "markdown",
      "source": [
        "**Question 8 - Which hosts are the busiest?**"
      ],
      "metadata": {
        "id": "2AU3RZ8Vkrxh"
      }
    },
    {
      "cell_type": "code",
      "source": [
        "# Busy host are those who have max number of reviews.\n",
        "\n",
        "busy_host = data_set.groupby(['host_id','host_name','neighbourhood_group','room_type'])['number_of_reviews'].max().reset_index()\n",
        "busy_host=busy_host.sort_values(by='number_of_reviews', ascending=False).head(10)\n",
        "busy_host"
      ],
      "metadata": {
        "id": "bhGpGAdGkdf6"
      },
      "execution_count": null,
      "outputs": []
    },
    {
      "cell_type": "markdown",
      "source": [
        "Insights :\n",
        "\n",
        "1. Busiest Host are: Dona , Jj , Maya , Carol\n",
        "\n",
        "2. Private Rooms are most preferred."
      ],
      "metadata": {
        "id": "tj1BbHYNkzJj"
      }
    },
    {
      "cell_type": "markdown",
      "source": [
        "**Question 9 - Is there any noticeable difference of traffic among different areas and what could be the reason for it?**"
      ],
      "metadata": {
        "id": "esfgGPKik6tj"
      }
    },
    {
      "cell_type": "code",
      "source": [
        "traffic=data_set.groupby(['neighbourhood_group','room_type'])['minimum_nights'].count().reset_index().sort_values(by='minimum_nights',ascending=False)\n",
        "traffic\n",
        "\n",
        ""
      ],
      "metadata": {
        "id": "OlW5wdIRkj6v"
      },
      "execution_count": null,
      "outputs": []
    },
    {
      "cell_type": "markdown",
      "source": [
        "Insight :\n",
        "\n",
        "1. From above analysis people are prefering entire home/apt over private rooms in manhattan followed by others.\n",
        "\n",
        "2. People prefering entire home/apt stay a bit longer than people who take private rooms\n",
        "\n",
        "3. If no. of reviews are more for particular neighbourhood that means it is a famous place\n",
        "\n",
        "4. If people are not staying for more then 1 night that means they are travellers---they give reviews"
      ],
      "metadata": {
        "id": "85jNu4ojlFHP"
      }
    },
    {
      "cell_type": "markdown",
      "source": [
        "**Question 10 - What is the impact of seasonality on Airbnb Bookings?**"
      ],
      "metadata": {
        "id": "ClPds8gnlMUp"
      }
    },
    {
      "cell_type": "code",
      "source": [
        "data = data_set.copy()\n",
        "\n",
        "\n",
        "data['last_review'] = pd.to_datetime(data['last_review'], format='%Y-%m-%d')\n",
        "\n",
        "\n",
        "data['year_month'] = data['last_review'].dt.to_period('M')\n",
        "\n",
        "\n",
        "average_reviews_per_month = data.groupby('year_month')['reviews_per_month'].mean()\n",
        "\n",
        "plt.figure(figsize=(12, 6))\n",
        "average_reviews_per_month.plot(kind='line')\n",
        "plt.xlabel('Month/Year')\n",
        "plt.ylabel('Average Reviews')\n",
        "plt.title('Average Reviews (Seasonality Impact)')\n",
        "plt.grid(True)\n",
        "plt.show()"
      ],
      "metadata": {
        "id": "rQPOCjSNlSrZ"
      },
      "execution_count": null,
      "outputs": []
    },
    {
      "cell_type": "markdown",
      "source": [
        "Insights :\n",
        "\n",
        "* Seasonality has a significant impact on Airbnb bookings, with peak bookings occurring during the summer months and trough bookings occurring during the winter months.\n",
        "* The impact of seasonality is consistent over time, with the same general pattern observed from 2012 to 2019.\n",
        "* The magnitude of the impact of seasonality varies depending on the specific location."
      ],
      "metadata": {
        "id": "JG2hUP6Llbte"
      }
    },
    {
      "cell_type": "markdown",
      "source": [
        "**Question 11 - How do Airbnb guests rate their overall experience with different hosts ?**"
      ],
      "metadata": {
        "id": "rG825WyAlotT"
      }
    },
    {
      "cell_type": "code",
      "source": [
        "data['overall_experience_metric'] = data['number_of_reviews'] * data['reviews_per_month']\n",
        "\n",
        "average_experience_by_host = data.groupby('host_id')['overall_experience_metric'].mean()\n",
        "\n",
        "\n",
        "average_experience_by_host = average_experience_by_host.sort_values(ascending=False)\n",
        "\n",
        "# Plot the top 10 hosts with the highest average overall experience metric\n",
        "top_hosts = average_experience_by_host.head(10)\n",
        "top_hosts.plot(kind='bar', figsize=(12, 6))\n",
        "plt.xlabel('Host ID')\n",
        "plt.ylabel('Average Overall Experience Metric')\n",
        "plt.title('Top 10 Hosts with Highest Average Overall Experience')\n",
        "plt.xticks(rotation=45)\n",
        "plt.show()\n",
        ""
      ],
      "metadata": {
        "id": "1aaGg57pltYT"
      },
      "execution_count": null,
      "outputs": []
    },
    {
      "cell_type": "markdown",
      "source": [
        "Insights :\n",
        "\n",
        "* Some hosts have consistently higher average overall guest experience ratings than others.\n",
        "* The top 10 hosts with the highest average overall guest experience ratings have ratings above 5000.\n",
        "* There is a wide range of average overall guest experience ratings among hosts, with some hosts having ratings as low as 1000."
      ],
      "metadata": {
        "id": "FDVee3j8l5tI"
      }
    },
    {
      "cell_type": "markdown",
      "source": [
        "**Question 12 - How does the supply and demand of airbnb listings change over time?**"
      ],
      "metadata": {
        "id": "S8JWwEf7mDTW"
      }
    },
    {
      "cell_type": "code",
      "source": [
        "data['last_review'] = pd.to_datetime(data['last_review'])\n",
        "\n",
        "data.dropna(subset=['last_review'], inplace=True)\n",
        "\n",
        "\n",
        "data['year'] = data['last_review'].dt.year\n",
        "\n",
        "listings_per_year = data.groupby('year').size()\n",
        "reviews_per_year = data.groupby('year')['number_of_reviews'].sum()\n",
        "\n",
        "\n",
        "plt.figure(figsize=(10, 6))\n",
        "plt.plot(listings_per_year.index, listings_per_year.values, label='Number of Listings')\n",
        "plt.plot(reviews_per_year.index, reviews_per_year.values, label='Number of Reviews')\n",
        "plt.xlabel('Year')\n",
        "plt.ylabel('Count')\n",
        "plt.title('Airbnb Listings and Reviews Over the Years')\n",
        "plt.legend()\n",
        "plt.grid(True)\n",
        "plt.show()"
      ],
      "metadata": {
        "id": "kJdB2Fytl2Cc"
      },
      "execution_count": null,
      "outputs": []
    },
    {
      "cell_type": "markdown",
      "source": [
        "Insights:\n",
        "\n",
        "* The supply of Airbnb listings has grown significantly over time, with a sharp increase in listings occurring after 2015.\n",
        "* The demand for Airbnb listings has also grown over time, but at a slower pace than the supply.\n",
        "* This has led to a decrease in occupancy rates for Airbnb listings."
      ],
      "metadata": {
        "id": "8Okn-1kLmNzA"
      }
    },
    {
      "cell_type": "markdown",
      "source": [
        "## **5. Solution to Business Objective**"
      ],
      "metadata": {
        "id": "JcMwzZxoAimU"
      }
    },
    {
      "cell_type": "markdown",
      "source": [
        "#### What do you suggest the client to achieve Business Objective ?\n",
        "Explain Briefly."
      ],
      "metadata": {
        "id": "8G2x9gOozGDZ"
      }
    },
    {
      "cell_type": "markdown",
      "source": [
        "* Identify the most popular neighborhoods and room types. This information can be used to focus marketing efforts and allocate inventory accordingly.\n",
        "* Analyze price trends by neighborhood, room type, and time of year. This information can be used to set competitive prices and maximize revenue.\n",
        "* Identify the hosts with the best reviews and highest occupancy rates. This information can be used to partner with these hosts to promote their listings and attract more guests.\n",
        "* Investigate factors that affect demand, such as major events and holidays. This information can be used to forecast demand and adjust pricing accordingly. -Develop targeted marketing campaigns to attract specific types of guests. For example, the client could target families with young children, couples on romantic getaways, or business travelers."
      ],
      "metadata": {
        "id": "pASKb0qOza21"
      }
    },
    {
      "cell_type": "markdown",
      "source": [
        "# **Conclusion**"
      ],
      "metadata": {
        "id": "gCX9965dhzqZ"
      }
    },
    {
      "cell_type": "markdown",
      "source": [
        "This Airbnb bookings analysis provides valuable insights into the New York City Airbnb market. The most popular neighborhoods for Airbnb are Manhattan and Brooklyn, followed by Queens and Staten Island. Entire homes and apartments are the most popular room types, followed by private rooms and shared rooms.\n",
        "\n",
        "Prices vary significantly by neighborhood, room type, and time of year. Prices are generally highest in Manhattan and during peak season.\n",
        "\n",
        "Hosts with the best reviews and highest occupancy rates are located in the most popular neighborhoods and offer high-quality accommodations.\n",
        "\n",
        "Factors that affect demand for Airbnb rentals include major events and holidays, as well as the time of year."
      ],
      "metadata": {
        "id": "Fjb1IsQkh3yE"
      }
    },
    {
      "cell_type": "markdown",
      "source": [
        "**Thank you** **!!**"
      ],
      "metadata": {
        "id": "gIfDvo9L0UH2"
      }
    }
  ]
}